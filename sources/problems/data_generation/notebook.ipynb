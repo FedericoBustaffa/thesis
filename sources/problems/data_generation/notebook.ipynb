{
 "cells": [
  {
   "cell_type": "markdown",
   "metadata": {},
   "source": [
    "# Ricostruzione dataset e punti sintetici\n"
   ]
  },
  {
   "cell_type": "code",
   "execution_count": 2,
   "metadata": {},
   "outputs": [],
   "source": [
    "import json\n",
    "import matplotlib.pyplot as plt\n",
    "import numpy as np\n",
    "\n",
    "fp = open(\"../../results/toy_neighborhood.json\", \"r\")\n",
    "data = json.load(fp)\n",
    "fp.close()\n",
    "\n",
    "points = np.unique([p[\"point\"] for p in data], axis=0)\n",
    "classes = np.array([p[\"class\"] for p in data])"
   ]
  },
  {
   "cell_type": "code",
   "execution_count": 17,
   "metadata": {},
   "outputs": [
    {
     "name": "stdout",
     "output_type": "stream",
     "text": [
      "0.4.4\n",
      "\\begin{algorithmic}\n",
      "    \\Function{evaluate}{$chromosome, point, target\\_class, model$}\n",
      "        \\State $\\mathrm{chromosome\\_class} \\gets \\mathrm{model}.\\mathrm{predict} \\mathopen{}\\left( \\mathrm{chromosome} \\mathclose{}\\right)$\n",
      "        \\State $\\mathrm{distance} \\gets \\mathrm{norm} \\mathopen{}\\left( \\mathrm{chromosome} - \\mathrm{point} \\mathclose{}\\right)$\n",
      "        \\If{$\\mathrm{target\\_class} \\ne \\mathrm{chromosome\\_class}$}\n",
      "            \\State \\Return $\\mathrm{np}.\\mathrm{inf}$\n",
      "        \\Else\n",
      "            \\State \\Return $\\mathrm{distance}$\n",
      "        \\EndIf\n",
      "    \\EndFunction\n",
      "\\end{algorithmic}\n"
     ]
    }
   ],
   "source": [
    "import latexify\n",
    "from numpy.linalg import norm\n",
    "\n",
    "print(latexify.__version__)\n",
    "\n",
    "\n",
    "@latexify.algorithmic\n",
    "def evaluate(chromosome, point, target_class, model):\n",
    "    # classification\n",
    "    chromosome_class = model.predict(chromosome)\n",
    "\n",
    "    # compute euclidean distance\n",
    "    distance = norm(chromosome - point)\n",
    "\n",
    "    # compute classification penalty\n",
    "    if target_class != chromosome_class:\n",
    "        return np.inf\n",
    "    else:\n",
    "        return distance\n",
    "\n",
    "\n",
    "print(evaluate._latex)"
   ]
  }
 ],
 "metadata": {
  "kernelspec": {
   "display_name": ".env",
   "language": "python",
   "name": "python3"
  },
  "language_info": {
   "codemirror_mode": {
    "name": "ipython",
    "version": 3
   },
   "file_extension": ".py",
   "mimetype": "text/x-python",
   "name": "python",
   "nbconvert_exporter": "python",
   "pygments_lexer": "ipython3",
   "version": "3.10.12"
  }
 },
 "nbformat": 4,
 "nbformat_minor": 2
}
