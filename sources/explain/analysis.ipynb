{
 "cells": [
  {
   "cell_type": "markdown",
   "id": "0f40564d-794d-43a2-a906-01e158526848",
   "metadata": {},
   "source": [
    "# Comparazione tra blackbox\n",
    "\n",
    "Tra le varie blackbox prese in esame abbiamo **Random Forest**, **SVM** e un\n",
    "**MultiLayer Perceptron**. I risultati sono il frutto di un'esecuzione\n",
    "precedente svolta "
   ]
  },
  {
   "cell_type": "code",
   "execution_count": 21,
   "id": "7e7eeb73-6af6-41a1-91fa-7b46bc059cf1",
   "metadata": {},
   "outputs": [
    {
     "data": {
      "text/plain": [
       "{'chromsome': [0.5988980295073782, -0.224757833649927],\n",
       " 'values': [1.6031585512580002],\n",
       " 'fitness': -1.6031585512580002}"
      ]
     },
     "execution_count": 21,
     "metadata": {},
     "output_type": "execute_result"
    }
   ],
   "source": [
    "import json\n",
    "\n",
    "rf_file = open(\"../results/RandomForestClassifier.json\", \"r\")\n",
    "rf_results = json.load(rf_file)\n",
    "rf_file.close()\n",
    "\n",
    "# take only the first result\n",
    "res = rf_results[0]\n",
    "point = res[\"point\"]\n",
    "point_class = res[\"class\"]\n",
    "target_class = res[\"target\"]\n",
    "hall_of_fame = res[\"hall_of_fame\"]\n",
    "\n",
    "hall_of_fame[0][\"chr"
   ]
  }
 ],
 "metadata": {
  "@deathbeds/jupyterlab-fonts": {
   "styles": {
    ":root": {
     "--jp-code-font-size": "16px",
     "--jp-content-font-size1": "16px"
    }
   }
  },
  "kernelspec": {
   "display_name": "Python 3 (ipykernel)",
   "language": "python",
   "name": "python3"
  },
  "language_info": {
   "codemirror_mode": {
    "name": "ipython",
    "version": 3
   },
   "file_extension": ".py",
   "mimetype": "text/x-python",
   "name": "python",
   "nbconvert_exporter": "python",
   "pygments_lexer": "ipython3",
   "version": "3.10.12"
  }
 },
 "nbformat": 4,
 "nbformat_minor": 5
}
