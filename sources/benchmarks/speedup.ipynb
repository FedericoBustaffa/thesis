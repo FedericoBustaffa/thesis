{
 "cells": [
  {
   "cell_type": "markdown",
   "metadata": {},
   "source": [
    "# Analisi sulle prestazioni\n",
    "\n",
    "In questo notebook si vuole svolgere un'analisi sulle performance del modulo\n",
    "implementato. Andremo quindi a confrontare:\n",
    "\n",
    "- Versione sequenziale e versione parallela.\n",
    "- Versione sequenziale e DEAP sequenziale.\n",
    "- Versione parallela e DEAP parallelo (`scoop` e `multiprocessing`).\n",
    "- Considerazioni finali sul problema specifico del paper per un corretto\n",
    "  utilizzo della versione parallela ed evitare errori.\n"
   ]
  }
 ],
 "metadata": {
  "language_info": {
   "name": "python"
  }
 },
 "nbformat": 4,
 "nbformat_minor": 2
}
