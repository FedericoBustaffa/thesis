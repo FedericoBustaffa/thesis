{
 "cells": [
  {
   "cell_type": "markdown",
   "id": "515aac56-4084-45c9-b987-6e7052c1847f",
   "metadata": {},
   "source": [
    "# Benchmark code inter-processo\n",
    "\n",
    "In questo notebook si vogliono evidenziare prestazioni e possibili criticità\n",
    "della coda utilizzata per la comunicazione interprocesso, ossia\n",
    "`multiprocessing.Queue`.\n",
    "\n",
    "La coda permette di implementare facilmente un paradigma _produttore-consumatore_\n",
    "largamente usato per distribuire task a dei processi _worker_.\n",
    "\n",
    "Essendo la comunicazione inter-processo, ogni oggetto inserito nella coda viene\n",
    "serializzato e viene deserializzato nel momento in cui viene estratto. Il modulo\n",
    "usato per serializzare i vari oggetti è `pickle`.\n",
    "\n",
    "Il benchmark è molto semplice: verranno inseriti e rimossi vari oggetti, di\n",
    "diverse dimensioni nella coda. Lo stesso oggetto verrà inserito (e rimosso) 100\n",
    "volte al fine di avere un dato statistico solido. Saranno poi calcolati tempo\n",
    "medio e deviazione standard dei tempi di inserimento e rimozione dalla coda.\n",
    "\n",
    "Come oggetto da inviare utilizzeremo degli array `numpy`, i quali hanno una\n",
    "dimensione ben definita, sia in termini di struttura, sia in termini di\n",
    "attributi."
   ]
  },
  {
   "cell_type": "code",
   "execution_count": 1,
   "id": "8a429da6-2096-49a8-b797-ce2d8eaa4495",
   "metadata": {},
   "outputs": [
    {
     "name": "stdout",
     "output_type": "stream",
     "text": [
      "numpy array size: 80 bytes\n"
     ]
    }
   ],
   "source": [
    "import numpy as np\n",
    "\n",
    "a = np.array([i for i in range(10)])\n",
    "print(f\"numpy array size: {a.nbytes} bytes\")"
   ]
  },
  {
   "cell_type": "markdown",
   "id": "bdd9ec13-b51b-4ebf-bfc6-ddbe96067b35",
   "metadata": {},
   "source": [
    "Come ci si poteva aspettare, `numpy` inizializza vettori di valori a 8 byte\n",
    "a meno che non si specifichi un tipo diverso.\n",
    "\n",
    "Definiamo quindi la funzione che testa le prestazioni di inserimento e rimozione\n",
    "in questo modo:"
   ]
  },
  {
   "cell_type": "code",
   "execution_count": 5,
   "id": "84af3ecf-51a2-4d01-9e9e-e29436bce6ff",
   "metadata": {},
   "outputs": [
    {
     "data": {
      "text/plain": [
       "array([  100,   200,   400,   800,  1600,  3200,  6400, 12800, 25600,\n",
       "       51200])"
      ]
     },
     "execution_count": 5,
     "metadata": {},
     "output_type": "execute_result"
    }
   ],
   "source": [
    "import multiprocessing as mp\n",
    "import time\n",
    "\n",
    "def benchmark(dim: int):\n",
    "    q = mp.Queue()\n",
    "    buffer = np.array([i for i in range(dim)])\n",
    "    \n",
    "    put_times = []\n",
    "    get_times = []\n",
    "    for _ in range(1000):\n",
    "        start = time.perf_counter()\n",
    "        q.put(buffer)\n",
    "        end_put = time.perf_counter()\n",
    "        q.get()\n",
    "        end = time.perf_counter()\n",
    "\n",
    "        put_times.append(end_put - start)\n",
    "        get_times.append(end - end_put)\n",
    "\n",
    "    return np.array(put_times), np.array(get_times)\n",
    "\n",
    "dims = np.around(np.geomspace(100, 51200, 10)).astype(int)\n",
    "dims"
   ]
  },
  {
   "cell_type": "markdown",
   "id": "428cd947-21de-4345-a2b3-a2b4a17e07ab",
   "metadata": {},
   "source": []
  },
  {
   "cell_type": "code",
   "execution_count": 4,
   "id": "473d440f-3720-44de-8b74-507c47a14835",
   "metadata": {},
   "outputs": [
    {
     "name": "stdout",
     "output_type": "stream",
     "text": [
      "7.272063980053645e-06 6.907236398910754e-05\n",
      "5.9001990048273e-06 6.207102800908615e-05\n",
      "2.6670589904824737e-06 2.6598221022140933e-05\n",
      "7.3679580345924475e-06 7.865222404507221e-05\n",
      "5.352020085410913e-06 6.396594295438263e-05\n",
      "5.722862006223295e-06 8.515183897179668e-05\n",
      "4.372673032776219e-06 7.753501095066894e-05\n",
      "2.61379206131096e-06 6.063484695914667e-05\n",
      "2.873162073228741e-06 0.00011005493501579622\n",
      "3.2325740030501037e-06 0.0003620079239772167\n"
     ]
    }
   ],
   "source": [
    "for d in dims:\n",
    "    put_times, get_times = benchmark(d)\n",
    "    print(put_times.mean(), get_times.mean())"
   ]
  }
 ],
 "metadata": {
  "@deathbeds/jupyterlab-fonts": {
   "styles": {
    ":root": {
     "--jp-code-font-size": "18px",
     "--jp-content-font-size1": "18px"
    }
   }
  },
  "kernelspec": {
   "display_name": "Python 3 (ipykernel)",
   "language": "python",
   "name": "python3"
  },
  "language_info": {
   "codemirror_mode": {
    "name": "ipython",
    "version": 3
   },
   "file_extension": ".py",
   "mimetype": "text/x-python",
   "name": "python",
   "nbconvert_exporter": "python",
   "pygments_lexer": "ipython3",
   "version": "3.10.12"
  }
 },
 "nbformat": 4,
 "nbformat_minor": 5
}
