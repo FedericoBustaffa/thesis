{
 "cells": [
  {
   "cell_type": "markdown",
   "metadata": {},
   "source": [
    "# Analisi multiprocessing\n",
    "\n",
    "Di seguito alcune considerazioni sull'utilizzo\n",
    "del multiprocessing per la parallelizzazione di\n",
    "un algoritmo genetico.\n"
   ]
  },
  {
   "cell_type": "markdown",
   "metadata": {},
   "source": [
    "## Motivazioni\n",
    "\n",
    "L'utilizzo del modulo `multiprocessing` è ciò che\n",
    "viene considerato lo standard per il calcolo\n",
    "parallelo in Python, soprattutto se si parla di\n",
    "task CPU bound.\n",
    "\n",
    "Permette di aggirare il problema introdotto dal\n",
    "GIL, il quale non permette il classico paradigma\n",
    "multithread, possibile in altri linguaggi come C o\n",
    "C++.\n",
    "\n",
    "Tramite multiprocessing è dunque possibile non\n",
    "scendere a compromessi in quanto ad espressività\n",
    "del codice. Il programmatore è libero di scrivere\n",
    "il suo algoritmo genetico utilizzato tipi e\n",
    "strutture dati native di Python e, se necessario\n",
    "può ricorrere a librerie di terze parti senza\n",
    "problemi.\n"
   ]
  },
  {
   "cell_type": "markdown",
   "metadata": {},
   "source": [
    "### Problematiche\n",
    "\n",
    "Il multiprocessing di contro non è la cosa più\n",
    "leggera che ci sia. Di certo non è possibile\n",
    "pensare ad un approccio in cui i processi vengono\n",
    "creati e distrutti ad ogni iterazione, in quanto\n",
    "si genererebbe del dell'overhead sicuramente non\n",
    "trascurabile.\n",
    "\n",
    "La scelta di creare un pool di processi worker che\n",
    "rimane in vita dall'inizio alla fine\n",
    "dell'esecuzione è dunque una scelta quasi obbligata\n",
    "e che introduce la necessità di un qualche\n",
    "meccanismo di sincronizzazione per avviare e\n",
    "mettere in attesa i processi.\n",
    "\n",
    "L'altro potenziale limite è l'assenza di memoria\n",
    "condivisa. Non è dunque possibile avere strutture\n",
    "dati condivise tramite puntatori o definite\n",
    "globalmente a cui ogni processi può accedere. Anche\n",
    "qui la scelta di condividere parti della struttura\n",
    "dati tramite qualche meccanismo di streaming dati\n",
    "è praticamente obbligata.\n"
   ]
  },
  {
   "cell_type": "markdown",
   "metadata": {},
   "source": [
    "#### Memoria condivisa\n",
    "\n",
    "Esiste la possibilità di creare un blocco di\n",
    "memoria condivisa che risiede al di fuori di ogni\n",
    "worker e al quale è possibile accedere in modo\n",
    "diretto come si farebbe tramite multithreading.\n",
    "\n",
    "Ho trovato tuttavia questo meccanismo molto\n",
    "limitante per l'espressività che vorrebbe in\n",
    "qualche modo garantire la libreria. Il motivo è\n",
    "che per riuscire a accedere direttamente al blocco\n",
    "di memoria lo si deve fare tramite oggetti che\n",
    "supportano il **Buffer Protocol** di Python, come\n",
    "ad esempio _numpy array_ o _bytearray_.\n",
    "\n",
    "Questo limita molto i tipi e le strutture dati\n",
    "che si vogliono impiegare e ci spinge ad un\n",
    "approccio più classico in cui possiamo manipolare\n",
    "solo array numerici o simili.\n",
    "\n",
    "Non sarebbe quindi possibile avere cromosomi\n",
    "dalla struttura complessa ma soprattutto\n",
    "personalizzata.\n"
   ]
  },
  {
   "cell_type": "markdown",
   "metadata": {},
   "source": [
    "## Modello di calcolo parallelo\n",
    "\n",
    "Il modello di calcolo proposto si offre di operare\n",
    "in parallelo nelle fasi di crossover, mutazione e\n",
    "valutazione.\n",
    "\n",
    "Una volta selezionati gli individui per la\n",
    "riproduzione, si suddivide la lista che li contiene\n",
    "in $W$ chunk uguali, dove $W$ è il numero di\n",
    "processi worker. Ciascun chunk viene poi inviato\n",
    "ai worker.\n",
    "\n",
    "Per la condivisione ho optato per un meccanismo\n",
    "basato su code (`multiprocessing.Queue`) di\n",
    "comunicazione. Ogni processo possiede due code, una\n",
    "per la ricezione dati, l'altra per l'invio.\n",
    "\n",
    "![queue](images/queue.svg)\n",
    "\n",
    "Le code permettono di implementare in modo molto\n",
    "semplice il paradigma _produttore-consumatore_,\n",
    "fornendo due metodi principali (`put` e `get`)\n",
    "che permettono rispettivamente di\n",
    "\n",
    "- Inserire un elemento nella coda. Se questa è\n",
    "  piena il processo si blocca finché non vi è\n",
    "  uno slot libero.\n",
    "- Estrarre un elemento dalla coda. Nel caso in cui\n",
    "  questa sia vuota ci si blocca in attesa che un\n",
    "  elemento venga inserito.\n",
    "\n",
    "Per velocizzare ulteriormente l'invio e la\n",
    "ricezione dati ho fatto uso della libreria\n",
    "`asyncio`, la quale, tramite la sintassi\n",
    "`async`/`await` permette di effettuare operazioni\n",
    "I/O bound in modo asincrono.\n"
   ]
  },
  {
   "cell_type": "markdown",
   "metadata": {},
   "source": [
    "### Prestazioni della coda\n",
    "\n",
    "Per valutare la bontà del modello ho preso in considerazione il tempo\n",
    "necessario a\n",
    "\n",
    "- inserire un singolo individuo in coda.\n",
    "- effettuare le operazioni di crossover, mutazione e valutazione per un singolo\n",
    "  individuo.\n",
    "- effettuare le due operazioni precedenti ma per un gruppo di individui.\n"
   ]
  },
  {
   "cell_type": "code",
   "execution_count": 1,
   "metadata": {},
   "outputs": [
    {
     "name": "stdout",
     "output_type": "stream",
     "text": [
      "chromosome size: 4.12 KB\n"
     ]
    }
   ],
   "source": [
    "import sys\n",
    "\n",
    "# chromosome length\n",
    "chromosome = [i for i in range(500)]\n",
    "print(f\"chromosome size: {sys.getsizeof(chromosome) / 1024.0:.2f} KB\")"
   ]
  },
  {
   "cell_type": "markdown",
   "metadata": {},
   "source": [
    "Passiamo ora a costruire 3 diverse popolazioni, rispettivamente da $10.000$,\n",
    "$20.000$ e $50.0000$ individui.\n"
   ]
  },
  {
   "cell_type": "code",
   "execution_count": 2,
   "metadata": {},
   "outputs": [
    {
     "data": {
      "text/html": [
       "<div>\n",
       "<style scoped>\n",
       "    .dataframe tbody tr th:only-of-type {\n",
       "        vertical-align: middle;\n",
       "    }\n",
       "\n",
       "    .dataframe tbody tr th {\n",
       "        vertical-align: top;\n",
       "    }\n",
       "\n",
       "    .dataframe thead th {\n",
       "        text-align: right;\n",
       "    }\n",
       "</style>\n",
       "<table border=\"1\" class=\"dataframe\">\n",
       "  <thead>\n",
       "    <tr style=\"text-align: right;\">\n",
       "      <th></th>\n",
       "      <th>individuals</th>\n",
       "      <th>size (KB)</th>\n",
       "    </tr>\n",
       "  </thead>\n",
       "  <tbody>\n",
       "    <tr>\n",
       "      <th>0</th>\n",
       "      <td>10000</td>\n",
       "      <td>83.179688</td>\n",
       "    </tr>\n",
       "    <tr>\n",
       "      <th>1</th>\n",
       "      <td>20000</td>\n",
       "      <td>168.960938</td>\n",
       "    </tr>\n",
       "    <tr>\n",
       "      <th>2</th>\n",
       "      <td>50000</td>\n",
       "      <td>433.960938</td>\n",
       "    </tr>\n",
       "  </tbody>\n",
       "</table>\n",
       "</div>"
      ],
      "text/plain": [
       "   individuals   size (KB)\n",
       "0        10000   83.179688\n",
       "1        20000  168.960938\n",
       "2        50000  433.960938"
      ]
     },
     "execution_count": 2,
     "metadata": {},
     "output_type": "execute_result"
    }
   ],
   "source": [
    "import pandas as pd\n",
    "\n",
    "population_sizes = [10000, 20000, 50000]\n",
    "populations = [[chromosome for _ in range(size)] for size in population_sizes]\n",
    "\n",
    "populations_df = {\n",
    "    \"individuals\": [size for size in population_sizes],\n",
    "    \"size (KB)\": [sys.getsizeof(pop) / 1024.0 for pop in populations],\n",
    "}\n",
    "\n",
    "populations_df = pd.DataFrame(populations_df)\n",
    "populations_df"
   ]
  },
  {
   "cell_type": "markdown",
   "metadata": {},
   "source": [
    "Per ognuna delle popolazioni andiamo a valutare il tempo medio di inserimento\n",
    "ed estrazione di un individuo nella coda.\n"
   ]
  },
  {
   "cell_type": "code",
   "execution_count": 3,
   "metadata": {},
   "outputs": [
    {
     "data": {
      "text/html": [
       "<div>\n",
       "<style scoped>\n",
       "    .dataframe tbody tr th:only-of-type {\n",
       "        vertical-align: middle;\n",
       "    }\n",
       "\n",
       "    .dataframe tbody tr th {\n",
       "        vertical-align: top;\n",
       "    }\n",
       "\n",
       "    .dataframe thead th {\n",
       "        text-align: right;\n",
       "    }\n",
       "</style>\n",
       "<table border=\"1\" class=\"dataframe\">\n",
       "  <thead>\n",
       "    <tr style=\"text-align: right;\">\n",
       "      <th></th>\n",
       "      <th>put time (ms)</th>\n",
       "      <th>get time (ms)</th>\n",
       "    </tr>\n",
       "    <tr>\n",
       "      <th>size</th>\n",
       "      <th></th>\n",
       "      <th></th>\n",
       "    </tr>\n",
       "  </thead>\n",
       "  <tbody>\n",
       "    <tr>\n",
       "      <th>10000</th>\n",
       "      <td>0.004420</td>\n",
       "      <td>0.065764</td>\n",
       "    </tr>\n",
       "    <tr>\n",
       "      <th>20000</th>\n",
       "      <td>0.004234</td>\n",
       "      <td>0.063227</td>\n",
       "    </tr>\n",
       "    <tr>\n",
       "      <th>50000</th>\n",
       "      <td>0.008701</td>\n",
       "      <td>0.126650</td>\n",
       "    </tr>\n",
       "  </tbody>\n",
       "</table>\n",
       "</div>"
      ],
      "text/plain": [
       "       put time (ms)  get time (ms)\n",
       "size                               \n",
       "10000       0.004420       0.065764\n",
       "20000       0.004234       0.063227\n",
       "50000       0.008701       0.126650"
      ]
     },
     "execution_count": 3,
     "metadata": {},
     "output_type": "execute_result"
    }
   ],
   "source": [
    "import multiprocessing as mp\n",
    "import time\n",
    "\n",
    "import pandas as pd\n",
    "\n",
    "dfs = []\n",
    "\n",
    "buffer = mp.Queue()\n",
    "single_timings = {\"size\": [], \"put time (ms)\": [], \"get time (ms)\": []}\n",
    "for p, size in zip(populations, population_sizes):\n",
    "    for _ in range(size):\n",
    "        start = time.perf_counter()\n",
    "        buffer.put(chromosome)\n",
    "        put_end = time.perf_counter()\n",
    "        buffer.get()\n",
    "        get_end = time.perf_counter()\n",
    "\n",
    "        single_timings[\"size\"].append(size)\n",
    "        single_timings[\"put time (ms)\"].append((put_end - start) * 1000.0)\n",
    "        single_timings[\"get time (ms)\"].append((get_end - put_end) * 1000.0)\n",
    "\n",
    "single_timings = pd.DataFrame(single_timings)\n",
    "single_timings.groupby(\"size\").mean()"
   ]
  },
  {
   "cell_type": "markdown",
   "metadata": {},
   "source": [
    "Vediamo invece il tempo totale di inserimento ed estrazione di tutti gli\n",
    "individui uno per uno.\n"
   ]
  },
  {
   "cell_type": "code",
   "execution_count": 4,
   "metadata": {},
   "outputs": [
    {
     "data": {
      "text/html": [
       "<div>\n",
       "<style scoped>\n",
       "    .dataframe tbody tr th:only-of-type {\n",
       "        vertical-align: middle;\n",
       "    }\n",
       "\n",
       "    .dataframe tbody tr th {\n",
       "        vertical-align: top;\n",
       "    }\n",
       "\n",
       "    .dataframe thead th {\n",
       "        text-align: right;\n",
       "    }\n",
       "</style>\n",
       "<table border=\"1\" class=\"dataframe\">\n",
       "  <thead>\n",
       "    <tr style=\"text-align: right;\">\n",
       "      <th></th>\n",
       "      <th>put time (ms)</th>\n",
       "      <th>get time (ms)</th>\n",
       "    </tr>\n",
       "    <tr>\n",
       "      <th>size</th>\n",
       "      <th></th>\n",
       "      <th></th>\n",
       "    </tr>\n",
       "  </thead>\n",
       "  <tbody>\n",
       "    <tr>\n",
       "      <th>10000</th>\n",
       "      <td>44.197200</td>\n",
       "      <td>657.640598</td>\n",
       "    </tr>\n",
       "    <tr>\n",
       "      <th>20000</th>\n",
       "      <td>84.682497</td>\n",
       "      <td>1264.537105</td>\n",
       "    </tr>\n",
       "    <tr>\n",
       "      <th>50000</th>\n",
       "      <td>435.027495</td>\n",
       "      <td>6332.495203</td>\n",
       "    </tr>\n",
       "  </tbody>\n",
       "</table>\n",
       "</div>"
      ],
      "text/plain": [
       "       put time (ms)  get time (ms)\n",
       "size                               \n",
       "10000      44.197200     657.640598\n",
       "20000      84.682497    1264.537105\n",
       "50000     435.027495    6332.495203"
      ]
     },
     "execution_count": 4,
     "metadata": {},
     "output_type": "execute_result"
    }
   ],
   "source": [
    "single_timings.groupby(\"size\").sum()"
   ]
  },
  {
   "cell_type": "markdown",
   "metadata": {},
   "source": [
    "Andiamo ora a valutare il tempo necessario ad inserire ed estrarre l'intera\n",
    "popolazione in un colpo solo.\n"
   ]
  },
  {
   "cell_type": "code",
   "execution_count": 5,
   "metadata": {},
   "outputs": [
    {
     "data": {
      "text/html": [
       "<div>\n",
       "<style scoped>\n",
       "    .dataframe tbody tr th:only-of-type {\n",
       "        vertical-align: middle;\n",
       "    }\n",
       "\n",
       "    .dataframe tbody tr th {\n",
       "        vertical-align: top;\n",
       "    }\n",
       "\n",
       "    .dataframe thead th {\n",
       "        text-align: right;\n",
       "    }\n",
       "</style>\n",
       "<table border=\"1\" class=\"dataframe\">\n",
       "  <thead>\n",
       "    <tr style=\"text-align: right;\">\n",
       "      <th></th>\n",
       "      <th>size</th>\n",
       "      <th>put time (ms)</th>\n",
       "      <th>get time (ms)</th>\n",
       "    </tr>\n",
       "  </thead>\n",
       "  <tbody>\n",
       "    <tr>\n",
       "      <th>0</th>\n",
       "      <td>10000</td>\n",
       "      <td>0.0108</td>\n",
       "      <td>0.3769</td>\n",
       "    </tr>\n",
       "    <tr>\n",
       "      <th>1</th>\n",
       "      <td>20000</td>\n",
       "      <td>0.0043</td>\n",
       "      <td>0.6239</td>\n",
       "    </tr>\n",
       "    <tr>\n",
       "      <th>2</th>\n",
       "      <td>50000</td>\n",
       "      <td>0.0047</td>\n",
       "      <td>1.1572</td>\n",
       "    </tr>\n",
       "  </tbody>\n",
       "</table>\n",
       "</div>"
      ],
      "text/plain": [
       "    size  put time (ms)  get time (ms)\n",
       "0  10000         0.0108         0.3769\n",
       "1  20000         0.0043         0.6239\n",
       "2  50000         0.0047         1.1572"
      ]
     },
     "execution_count": 5,
     "metadata": {},
     "output_type": "execute_result"
    }
   ],
   "source": [
    "assert buffer.empty()\n",
    "\n",
    "whole_pop_timings = {\"size\": [], \"put time (ms)\": [], \"get time (ms)\": []}\n",
    "for pop, size in zip(populations, population_sizes):\n",
    "    start = time.perf_counter()\n",
    "    buffer.put(pop)\n",
    "    put_end = time.perf_counter()\n",
    "    buffer.get()\n",
    "    get_end = time.perf_counter()\n",
    "\n",
    "    whole_pop_timings[\"size\"].append(size)\n",
    "    whole_pop_timings[\"put time (ms)\"].append((put_end - start) * 1000.0)\n",
    "    whole_pop_timings[\"get time (ms)\"].append((get_end - put_end) * 1000.0)\n",
    "\n",
    "whole_pop_timings = pd.DataFrame(whole_pop_timings)\n",
    "whole_pop_timings"
   ]
  },
  {
   "cell_type": "markdown",
   "metadata": {},
   "source": [
    "Andiamo a comparare i tempi medi di inserimento ed estrazione di un singolo\n",
    "individuo con i tempi necessari ad inserire ed estrarre l'intera popolazione.\n"
   ]
  },
  {
   "cell_type": "code",
   "execution_count": 6,
   "metadata": {},
   "outputs": [
    {
     "data": {
      "text/html": [
       "<div>\n",
       "<style scoped>\n",
       "    .dataframe tbody tr th:only-of-type {\n",
       "        vertical-align: middle;\n",
       "    }\n",
       "\n",
       "    .dataframe tbody tr th {\n",
       "        vertical-align: top;\n",
       "    }\n",
       "\n",
       "    .dataframe thead th {\n",
       "        text-align: right;\n",
       "    }\n",
       "</style>\n",
       "<table border=\"1\" class=\"dataframe\">\n",
       "  <thead>\n",
       "    <tr style=\"text-align: right;\">\n",
       "      <th></th>\n",
       "      <th>put time (ms)</th>\n",
       "      <th>get time (ms)</th>\n",
       "    </tr>\n",
       "    <tr>\n",
       "      <th>size</th>\n",
       "      <th></th>\n",
       "      <th></th>\n",
       "    </tr>\n",
       "  </thead>\n",
       "  <tbody>\n",
       "    <tr>\n",
       "      <th>10000</th>\n",
       "      <td>2.443599</td>\n",
       "      <td>5.731093</td>\n",
       "    </tr>\n",
       "    <tr>\n",
       "      <th>20000</th>\n",
       "      <td>1.015566</td>\n",
       "      <td>9.867642</td>\n",
       "    </tr>\n",
       "    <tr>\n",
       "      <th>50000</th>\n",
       "      <td>0.540193</td>\n",
       "      <td>9.136999</td>\n",
       "    </tr>\n",
       "  </tbody>\n",
       "</table>\n",
       "</div>"
      ],
      "text/plain": [
       "       put time (ms)  get time (ms)\n",
       "size                               \n",
       "10000       2.443599       5.731093\n",
       "20000       1.015566       9.867642\n",
       "50000       0.540193       9.136999"
      ]
     },
     "execution_count": 6,
     "metadata": {},
     "output_type": "execute_result"
    }
   ],
   "source": [
    "whole_pop_timings.groupby(\"size\").sum() / single_timings.groupby(\"size\").mean()"
   ]
  },
  {
   "cell_type": "markdown",
   "metadata": {},
   "source": [
    "Prendiamo ad esempio la popolazione da $50.000$ individui, con un peso totale\n",
    "di circa $433$ KB. Si nota subito che occupa almeno 100 volte la memoria\n",
    "occupata da un singolo cromosoma. Ad ogni modo, il tempo di estrazione\n",
    "dell'intera popolazione non è 100 volte superiore ma circa 23 volte superiore.\n",
    "\n",
    "Compariamo ora il tempo necessario ad inserire ed estrarre l'intera popolazione\n",
    "un individuo alla volta, con il tempo necessario ad inserirla ed estrarla in un\n",
    "colpo solo.\n"
   ]
  },
  {
   "cell_type": "code",
   "execution_count": 7,
   "metadata": {},
   "outputs": [
    {
     "data": {
      "text/html": [
       "<div>\n",
       "<style scoped>\n",
       "    .dataframe tbody tr th:only-of-type {\n",
       "        vertical-align: middle;\n",
       "    }\n",
       "\n",
       "    .dataframe tbody tr th {\n",
       "        vertical-align: top;\n",
       "    }\n",
       "\n",
       "    .dataframe thead th {\n",
       "        text-align: right;\n",
       "    }\n",
       "</style>\n",
       "<table border=\"1\" class=\"dataframe\">\n",
       "  <thead>\n",
       "    <tr style=\"text-align: right;\">\n",
       "      <th></th>\n",
       "      <th>put time (ms)</th>\n",
       "      <th>get time (ms)</th>\n",
       "    </tr>\n",
       "    <tr>\n",
       "      <th>size</th>\n",
       "      <th></th>\n",
       "      <th></th>\n",
       "    </tr>\n",
       "  </thead>\n",
       "  <tbody>\n",
       "    <tr>\n",
       "      <th>10000</th>\n",
       "      <td>4092.324238</td>\n",
       "      <td>1744.867786</td>\n",
       "    </tr>\n",
       "    <tr>\n",
       "      <th>20000</th>\n",
       "      <td>19693.454070</td>\n",
       "      <td>2026.826655</td>\n",
       "    </tr>\n",
       "    <tr>\n",
       "      <th>50000</th>\n",
       "      <td>92559.483089</td>\n",
       "      <td>5472.256379</td>\n",
       "    </tr>\n",
       "  </tbody>\n",
       "</table>\n",
       "</div>"
      ],
      "text/plain": [
       "       put time (ms)  get time (ms)\n",
       "size                               \n",
       "10000    4092.324238    1744.867786\n",
       "20000   19693.454070    2026.826655\n",
       "50000   92559.483089    5472.256379"
      ]
     },
     "execution_count": 7,
     "metadata": {},
     "output_type": "execute_result"
    }
   ],
   "source": [
    "single_timings.groupby(\"size\").sum() / whole_pop_timings.groupby(\"size\").sum()"
   ]
  },
  {
   "cell_type": "markdown",
   "metadata": {},
   "source": [
    "Risulta chiaro il vantaggio che si inserendo più dati alla volta ma meno volte\n",
    "rispetto ad inserire pochi byte per volta ma molte volte.\n",
    "\n",
    "Per quanto riguarda invece il singolo inserimento o estrazione dalla coda,\n",
    "lavorare con meno byte risulta più vantaggioso ma il miglioramento è di gran\n",
    "lunga più marcato nel caso in cui si lavori con l'intera popolazione in blocco.\n"
   ]
  },
  {
   "cell_type": "markdown",
   "metadata": {},
   "source": [
    "#### Suddivisione della popolazione in chunk\n",
    "\n",
    "Al fine di migliorare il modello che ho implementato, è interessante vedere\n",
    "la differenza in prestazioni quando si suddivide la popolazione in chunk.\n",
    "\n",
    "Per ognuna delle popolazioni ho valutato chunk di dimensioni pari alla\n",
    "popolazione stessa e poi via via più piccoli dividendo per 2.\n"
   ]
  },
  {
   "cell_type": "code",
   "execution_count": 8,
   "metadata": {},
   "outputs": [
    {
     "data": {
      "text/html": [
       "<div>\n",
       "<style scoped>\n",
       "    .dataframe tbody tr th:only-of-type {\n",
       "        vertical-align: middle;\n",
       "    }\n",
       "\n",
       "    .dataframe tbody tr th {\n",
       "        vertical-align: top;\n",
       "    }\n",
       "\n",
       "    .dataframe thead th {\n",
       "        text-align: right;\n",
       "    }\n",
       "</style>\n",
       "<table border=\"1\" class=\"dataframe\">\n",
       "  <thead>\n",
       "    <tr style=\"text-align: right;\">\n",
       "      <th></th>\n",
       "      <th>size</th>\n",
       "      <th>chunksize</th>\n",
       "      <th>put time (ms)</th>\n",
       "      <th>get time (ms)</th>\n",
       "    </tr>\n",
       "  </thead>\n",
       "  <tbody>\n",
       "    <tr>\n",
       "      <th>0</th>\n",
       "      <td>10000</td>\n",
       "      <td>10000</td>\n",
       "      <td>0.0322</td>\n",
       "      <td>0.4763</td>\n",
       "    </tr>\n",
       "    <tr>\n",
       "      <th>1</th>\n",
       "      <td>10000</td>\n",
       "      <td>5000</td>\n",
       "      <td>0.0119</td>\n",
       "      <td>0.2164</td>\n",
       "    </tr>\n",
       "    <tr>\n",
       "      <th>2</th>\n",
       "      <td>10000</td>\n",
       "      <td>5000</td>\n",
       "      <td>0.0088</td>\n",
       "      <td>0.1843</td>\n",
       "    </tr>\n",
       "    <tr>\n",
       "      <th>3</th>\n",
       "      <td>10000</td>\n",
       "      <td>2500</td>\n",
       "      <td>0.0051</td>\n",
       "      <td>0.1141</td>\n",
       "    </tr>\n",
       "    <tr>\n",
       "      <th>4</th>\n",
       "      <td>10000</td>\n",
       "      <td>2500</td>\n",
       "      <td>0.0048</td>\n",
       "      <td>0.1181</td>\n",
       "    </tr>\n",
       "    <tr>\n",
       "      <th>...</th>\n",
       "      <td>...</td>\n",
       "      <td>...</td>\n",
       "      <td>...</td>\n",
       "      <td>...</td>\n",
       "    </tr>\n",
       "    <tr>\n",
       "      <th>184</th>\n",
       "      <td>50000</td>\n",
       "      <td>1563</td>\n",
       "      <td>0.0072</td>\n",
       "      <td>0.0795</td>\n",
       "    </tr>\n",
       "    <tr>\n",
       "      <th>185</th>\n",
       "      <td>50000</td>\n",
       "      <td>1563</td>\n",
       "      <td>0.0052</td>\n",
       "      <td>0.1041</td>\n",
       "    </tr>\n",
       "    <tr>\n",
       "      <th>186</th>\n",
       "      <td>50000</td>\n",
       "      <td>1563</td>\n",
       "      <td>0.0070</td>\n",
       "      <td>0.0784</td>\n",
       "    </tr>\n",
       "    <tr>\n",
       "      <th>187</th>\n",
       "      <td>50000</td>\n",
       "      <td>1563</td>\n",
       "      <td>0.0059</td>\n",
       "      <td>0.0831</td>\n",
       "    </tr>\n",
       "    <tr>\n",
       "      <th>188</th>\n",
       "      <td>50000</td>\n",
       "      <td>1563</td>\n",
       "      <td>0.0057</td>\n",
       "      <td>0.0718</td>\n",
       "    </tr>\n",
       "  </tbody>\n",
       "</table>\n",
       "<p>189 rows × 4 columns</p>\n",
       "</div>"
      ],
      "text/plain": [
       "      size  chunksize  put time (ms)  get time (ms)\n",
       "0    10000      10000         0.0322         0.4763\n",
       "1    10000       5000         0.0119         0.2164\n",
       "2    10000       5000         0.0088         0.1843\n",
       "3    10000       2500         0.0051         0.1141\n",
       "4    10000       2500         0.0048         0.1181\n",
       "..     ...        ...            ...            ...\n",
       "184  50000       1563         0.0072         0.0795\n",
       "185  50000       1563         0.0052         0.1041\n",
       "186  50000       1563         0.0070         0.0784\n",
       "187  50000       1563         0.0059         0.0831\n",
       "188  50000       1563         0.0057         0.0718\n",
       "\n",
       "[189 rows x 4 columns]"
      ]
     },
     "execution_count": 8,
     "metadata": {},
     "output_type": "execute_result"
    }
   ],
   "source": [
    "import math\n",
    "\n",
    "chunk_df = {\"size\": [], \"chunksize\": [], \"put time (ms)\": [], \"get time (ms)\": []}\n",
    "\n",
    "for size, pop in zip(population_sizes, populations):\n",
    "    chunksize = size\n",
    "    for _ in range(6):\n",
    "        for i in range(0, len(pop), chunksize):\n",
    "            start = time.perf_counter()\n",
    "            buffer.put(pop[i : i + chunksize])\n",
    "            put_end = time.perf_counter()\n",
    "            buffer.get()\n",
    "            get_end = time.perf_counter()\n",
    "\n",
    "            chunk_df[\"size\"].append(size)\n",
    "            chunk_df[\"chunksize\"].append(chunksize)\n",
    "            chunk_df[\"put time (ms)\"].append((put_end - start) * 1000.0)\n",
    "            chunk_df[\"get time (ms)\"].append((get_end - put_end) * 1000.0)\n",
    "\n",
    "        chunksize = math.ceil(chunksize / 2)\n",
    "\n",
    "chunk_df = pd.DataFrame(chunk_df)\n",
    "chunk_df"
   ]
  },
  {
   "cell_type": "code",
   "execution_count": 9,
   "metadata": {},
   "outputs": [],
   "source": [
    "import matplotlib.pyplot as plt\n",
    "\n",
    "\n",
    "def plot_chunk(size: int):\n",
    "    df = chunk_df[chunk_df[\"size\"] == size].sort_values(by=\"chunksize\")\n",
    "    chunksizes = df[\"chunksize\"].unique()\n",
    "\n",
    "    mean_put = df.groupby(\"chunksize\").mean()[\"put time (ms)\"]\n",
    "    mean_get = df.groupby(\"chunksize\").mean()[\"get time (ms)\"]\n",
    "\n",
    "    tot_put = df.groupby(\"chunksize\").sum()[\"put time (ms)\"]\n",
    "    tot_get = df.groupby(\"chunksize\").sum()[\"get time (ms)\"]\n",
    "\n",
    "    plt.figure(figsize=(12, 6))\n",
    "    plt.title(f\"Population size: {size}\")\n",
    "    plt.xlabel(\"Chunksize\")\n",
    "    plt.ylabel(\"Operation time\")\n",
    "    # plt.xscale(\"log\")\n",
    "\n",
    "    plt.plot(chunksizes, mean_put, label=f\"mean put time\", marker=\"s\")\n",
    "    plt.plot(chunksizes, mean_get, label=f\"mean get time\", marker=\"s\")\n",
    "\n",
    "    plt.plot(chunksizes, tot_put, label=f\"total put time\", marker=\"x\")\n",
    "    plt.plot(chunksizes, tot_get, label=f\"total get time\", marker=\"x\")\n",
    "\n",
    "    plt.legend()\n",
    "    plt.grid()\n",
    "    plt.show()"
   ]
  },
  {
   "cell_type": "code",
   "execution_count": 10,
   "metadata": {},
   "outputs": [
    {
     "data": {
      "image/png": "[encoded data removed]",
      "text/plain": [
       "<Figure size 1200x600 with 1 Axes>"
      ]
     },
     "metadata": {},
     "output_type": "display_data"
    },
    {
     "data": {
      "image/png": "[encoded data removed]",
      "text/plain": [
       "<Figure size 1200x600 with 1 Axes>"
      ]
     },
     "metadata": {},
     "output_type": "display_data"
    },
    {
     "data": {
      "image/png": "[encoded data removed]",
      "text/plain": [
       "<Figure size 1200x600 with 1 Axes>"
      ]
     },
     "metadata": {},
     "output_type": "display_data"
    }
   ],
   "source": [
    "plot_chunk(10000)\n",
    "plot_chunk(20000)\n",
    "plot_chunk(50000)"
   ]
  },
  {
   "cell_type": "markdown",
   "metadata": {},
   "source": [
    "Come possiamo vedere dai grafici, i tempi di inserimento rimangono bassi. Sono\n",
    "i tempi estrazione che si comportano in modo interessante.\n",
    "\n",
    "Quando si hanno tanti chunk piccoli, il tempo medio di estrazione è basso ma\n",
    "il tempo totale per estrarre tutta la popolazione tende ad essere più grande.\n",
    "\n",
    "Quando invece si hanno pochi chunk grandi vediamo che il tempo totale di\n",
    "estrazione dell'intera popolazione tende a diminuire. Notiamo anche che\n",
    "mantenere un numero di chunk basso ma comunque diverso da 1 ha prestazioni\n",
    "molto simili a lavorare con l'intera popolazione in blocco.\n"
   ]
  },
  {
   "cell_type": "markdown",
   "metadata": {},
   "source": [
    "### Prestazioni calcolo parallelo\n",
    "\n",
    "Passiamo alle prestazioni offerte dal modello di calcolo parallelo. Al momento\n",
    "il problema che sto trattando lavora su una funzione di valutazione della\n",
    "fitness troppo leggera per apprezzare uno _speed-up_ significativo. Ho aggiunto\n",
    "quindi un ritardo artificiale tramite un `sleep` di un millisecondo.\n"
   ]
  },
  {
   "cell_type": "code",
   "execution_count": 11,
   "metadata": {},
   "outputs": [],
   "source": [
    "import tsp\n",
    "\n",
    "data = pd.read_csv(\"datasets/towns_50.csv\")\n",
    "x_coords = data[\"x\"]\n",
    "y_coords = data[\"y\"]\n",
    "towns = [tsp.Town(x, y) for x, y in zip(x_coords, y_coords)]"
   ]
  },
  {
   "cell_type": "markdown",
   "metadata": {},
   "source": [
    "Il modulo ha un API simile alla libreria `DEAP` ma non fa uso di un singolo\n",
    "metodo `register` per registrare le varie fasi dell'algoritmo.\n"
   ]
  },
  {
   "cell_type": "code",
   "execution_count": 12,
   "metadata": {},
   "outputs": [],
   "source": [
    "from ppga import base\n",
    "\n",
    "toolbox = base.ToolBox()\n",
    "toolbox.set_fitness_weights(weights=(-1.0,))\n",
    "toolbox.set_generation(tsp.generate, len(towns))\n",
    "toolbox.set_selection(tsp.tournament)\n",
    "toolbox.set_mating(tsp.couples_mating)\n",
    "toolbox.set_crossover(tsp.cx_one_point_ordered, 0.8)\n",
    "toolbox.set_mutation(tsp.mut_rotation, 0.2)\n",
    "toolbox.set_evaluation(tsp.evaluate, towns)\n",
    "toolbox.set_replacement(tsp.merge)"
   ]
  },
  {
   "cell_type": "markdown",
   "metadata": {},
   "source": [
    "Abbiamo poi una classe `GeneticSolver` che implementa l'algoritmo genetico\n",
    "vero e proprio e che prende in input la `ToolBox` precedentemente definita.\n"
   ]
  },
  {
   "cell_type": "code",
   "execution_count": 13,
   "metadata": {},
   "outputs": [],
   "source": [
    "from ppga import solver"
   ]
  },
  {
   "cell_type": "code",
   "execution_count": 14,
   "metadata": {},
   "outputs": [
    {
     "name": "stderr",
     "output_type": "stream",
     "text": [
      "generations: 100%|██████████████████████████████| 10/10 [01:07<00:00,  6.77s/it]"
     ]
    },
    {
     "name": "stdout",
     "output_type": "stream",
     "text": [
      "sequential time: 84.46128 seconds\n"
     ]
    },
    {
     "name": "stderr",
     "output_type": "stream",
     "text": [
      "\n"
     ]
    }
   ],
   "source": [
    "ga = solver.GeneticSolver()\n",
    "start = time.perf_counter()\n",
    "seq_best, seq_stats = ga.run(toolbox, 10000, 10, base.Statistics())\n",
    "sequential_time = time.perf_counter() - start\n",
    "\n",
    "print(f\"sequential time: {sequential_time:.5f} seconds\")"
   ]
  },
  {
   "cell_type": "markdown",
   "metadata": {},
   "source": [
    "Per avere modo di capire quale sia lo speed-up ottenuto dal modello di calcolo\n",
    "verranno eseguiti test con 2, 4, 8, 12, 16 e 20 worker."
   ]
  },
  {
   "cell_type": "code",
   "execution_count": 15,
   "metadata": {},
   "outputs": [
    {
     "name": "stderr",
     "output_type": "stream",
     "text": [
      "generations: 100%|██████████████████████████████| 50/50 [03:24<00:00,  4.08s/it]\n",
      "generations: 100%|██████████████████████████████| 50/50 [02:04<00:00,  2.49s/it]\n",
      "generations: 100%|██████████████████████████████| 50/50 [01:22<00:00,  1.66s/it]\n",
      "generations: 100%|██████████████████████████████| 50/50 [01:09<00:00,  1.39s/it]\n",
      "generations: 100%|██████████████████████████████| 50/50 [01:01<00:00,  1.24s/it]\n",
      "generations: 100%|██████████████████████████████| 50/50 [00:57<00:00,  1.15s/it]\n"
     ]
    },
    {
     "data": {
      "text/html": [
       "<div>\n",
       "<style scoped>\n",
       "    .dataframe tbody tr th:only-of-type {\n",
       "        vertical-align: middle;\n",
       "    }\n",
       "\n",
       "    .dataframe tbody tr th {\n",
       "        vertical-align: top;\n",
       "    }\n",
       "\n",
       "    .dataframe thead th {\n",
       "        text-align: right;\n",
       "    }\n",
       "</style>\n",
       "<table border=\"1\" class=\"dataframe\">\n",
       "  <thead>\n",
       "    <tr style=\"text-align: right;\">\n",
       "      <th></th>\n",
       "      <th>workers</th>\n",
       "      <th>time</th>\n",
       "    </tr>\n",
       "  </thead>\n",
       "  <tbody>\n",
       "    <tr>\n",
       "      <th>0</th>\n",
       "      <td>2</td>\n",
       "      <td>223.060962</td>\n",
       "    </tr>\n",
       "    <tr>\n",
       "      <th>1</th>\n",
       "      <td>4</td>\n",
       "      <td>143.767596</td>\n",
       "    </tr>\n",
       "    <tr>\n",
       "      <th>2</th>\n",
       "      <td>8</td>\n",
       "      <td>103.129572</td>\n",
       "    </tr>\n",
       "    <tr>\n",
       "      <th>3</th>\n",
       "      <td>12</td>\n",
       "      <td>92.175929</td>\n",
       "    </tr>\n",
       "    <tr>\n",
       "      <th>4</th>\n",
       "      <td>16</td>\n",
       "      <td>85.803043</td>\n",
       "    </tr>\n",
       "    <tr>\n",
       "      <th>5</th>\n",
       "      <td>20</td>\n",
       "      <td>82.910326</td>\n",
       "    </tr>\n",
       "  </tbody>\n",
       "</table>\n",
       "</div>"
      ],
      "text/plain": [
       "   workers        time\n",
       "0        2  223.060962\n",
       "1        4  143.767596\n",
       "2        8  103.129572\n",
       "3       12   92.175929\n",
       "4       16   85.803043\n",
       "5       20   82.910326"
      ]
     },
     "execution_count": 15,
     "metadata": {},
     "output_type": "execute_result"
    }
   ],
   "source": [
    "workers = [2, 4, 8, 12, 16, 20]\n",
    "\n",
    "timings = {\"workers\": workers, \"time\": []}\n",
    "for w in workers:\n",
    "    qga = solver.QueuedGeneticSolver(w)\n",
    "    start = time.perf_counter()\n",
    "    queue_best, queue_stats = await qga.solve(toolbox, 10000, 50, base.Statistics())\n",
    "    queue_time = time.perf_counter() - start\n",
    "    timings[\"time\"].append(queue_time)\n",
    "\n",
    "timings = pd.DataFrame(timings)\n",
    "timings"
   ]
  },
  {
   "cell_type": "markdown",
   "metadata": {},
   "source": [
    "#### Speed up\n",
    "\n",
    "Possiamo a questo punto avere traccia dello speed-up ottenuto in base al numero di worker\n",
    "coinvolti."
   ]
  },
  {
   "cell_type": "code",
   "execution_count": 17,
   "metadata": {},
   "outputs": [
    {
     "data": {
      "image/png": "[encoded data removed]",
      "text/plain": [
       "<Figure size 640x480 with 1 Axes>"
      ]
     },
     "metadata": {},
     "output_type": "display_data"
    }
   ],
   "source": [
    "plt.xticks(timings[\"workers\"])\n",
    "plt.plot(timings[\"workers\"], timings[\"time\"], label=\"speed up\")\n",
    "plt.legend()\n",
    "plt.grid()\n",
    "plt.show()"
   ]
  }
 ],
 "metadata": {
  "@deathbeds/jupyterlab-fonts": {
   "styles": {
    ":root": {
     "--jp-code-font-size": "18px",
     "--jp-content-font-size1": "18px"
    }
   }
  },
  "kernelspec": {
   "display_name": "Python 3 (ipykernel)",
   "language": "python",
   "name": "python3"
  },
  "language_info": {
   "codemirror_mode": {
    "name": "ipython",
    "version": 3
   },
   "file_extension": ".py",
   "mimetype": "text/x-python",
   "name": "python",
   "nbconvert_exporter": "python",
   "pygments_lexer": "ipython3",
   "version": "3.12.7"
  }
 },
 "nbformat": 4,
 "nbformat_minor": 4
}
