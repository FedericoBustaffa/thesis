{
 "cells": [
  {
   "cell_type": "markdown",
   "metadata": {},
   "source": [
    "# Analisi multiprocessing\n",
    "\n",
    "Di seguito alcune considerazioni sull'utilizzo\n",
    "del multiprocessing per la parallelizzazione di\n",
    "un algoritmo genetico.\n"
   ]
  },
  {
   "cell_type": "markdown",
   "metadata": {},
   "source": [
    "## Motivazioni\n",
    "\n",
    "L'utilizzo del modulo `multiprocessing` è ciò che\n",
    "viene considerato lo standard per il calcolo\n",
    "parallelo in Python, soprattutto se si parla di\n",
    "task CPU bound.\n",
    "\n",
    "Permette di aggirare il problema introdotto dal\n",
    "GIL, il quale non permette il classico paradigma\n",
    "multithread, possibile in altri linguaggi come C o\n",
    "C++.\n",
    "\n",
    "Tramite multiprocessing è dunque possibile non\n",
    "scendere a compromessi in quanto ad espressività\n",
    "del codice. Il programmatore è libero di scrivere\n",
    "il suo algoritmo genetico utilizzato tipi e\n",
    "strutture dati native di Python e, se necessario\n",
    "può ricorrere a librerie di terze parti senza\n",
    "problemi.\n"
   ]
  },
  {
   "cell_type": "markdown",
   "metadata": {},
   "source": [
    "### Problematiche\n",
    "\n",
    "Il multiprocessing di contro non è la cosa più\n",
    "leggera che ci sia. Di certo non è possibile\n",
    "pensare ad un approccio in cui i processi vengono\n",
    "creati e distrutti ad ogni iterazione, in quanto\n",
    "si genererebbe del dell'overhead sicuramente non\n",
    "trascurabile.\n",
    "\n",
    "La scelta di creare un pool di processi worker che\n",
    "rimane in vita dall'inizio alla fine\n",
    "dell'esecuzione è dunque una scelta quasi obbligata\n",
    "e che introduce la necessità di un qualche\n",
    "meccanismo di sincronizzazione per avviare e\n",
    "mettere in attesa i processi.\n",
    "\n",
    "L'altro potenziale limite è l'assenza di memoria\n",
    "condivisa. Non è dunque possibile avere strutture\n",
    "dati condivise tramite puntatori o definite\n",
    "globalmente a cui ogni processi può accedere. Anche\n",
    "qui la scelta di condividere parti della struttura\n",
    "dati tramite qualche meccanismo di streaming dati\n",
    "è praticamente obbligata.\n"
   ]
  },
  {
   "cell_type": "markdown",
   "metadata": {},
   "source": [
    "#### Memoria condivisa\n",
    "\n",
    "Esiste la possibilità di creare un blocco di\n",
    "memoria condivisa che risiede al di fuori di ogni\n",
    "worker e al quale è possibile accedere in modo\n",
    "diretto come si farebbe tramite multithreading.\n",
    "\n",
    "Ho trovato tuttavia questo meccanismo molto\n",
    "limitante per l'espressività che vorrebbe in\n",
    "qualche modo garantire la libreria. Il motivo è\n",
    "che per riuscire a accedere direttamente al blocco\n",
    "di memoria lo si deve fare tramite oggetti che\n",
    "supportano il **Buffer Protocol** di Python, come\n",
    "ad esempio _numpy array_ o _bytearray_.\n",
    "\n",
    "Questo limita molto i tipi e le strutture dati\n",
    "che si vogliono impiegare e ci spinge ad un\n",
    "approccio più classico in cui possiamo manipolare\n",
    "solo array numerici o simili.\n",
    "\n",
    "Non sarebbe quindi possibile avere cromosomi\n",
    "dalla struttura complessa ma soprattutto\n",
    "personalizzata.\n"
   ]
  },
  {
   "cell_type": "markdown",
   "metadata": {},
   "source": [
    "## Modello di calcolo parallelo\n",
    "\n",
    "Il modello di calcolo proposto si offre di operare\n",
    "in parallelo nelle fasi di crossover, mutazione e\n",
    "valutazione.\n",
    "\n",
    "Una volta selezionati gli individui per la\n",
    "riproduzione, si suddivide la lista che li contiene\n",
    "in $W$ chunk uguali, dove $W$ è il numero di\n",
    "processi worker. Ciascun chunk viene poi inviato\n",
    "ai worker.\n",
    "\n",
    "Per la condivisione ho optato per un meccanismo\n",
    "basato su code (`multiprocessing.Queue`) di\n",
    "comunicazione. Ogni processo possiede due code, una\n",
    "per la ricezione dati, l'altra per l'invio.\n",
    "\n",
    "![queue](images/queue.svg)\n",
    "\n",
    "Le code permettono di implementare in modo molto\n",
    "semplice il paradigma _produttore-consumatore_,\n",
    "fornendo due metodi principali (`put` e `get`)\n",
    "che permettono rispettivamente di\n",
    "\n",
    "- Inserire un elemento nella coda. Se questa è\n",
    "  piena il processo si blocca finché non vi è\n",
    "  uno slot libero.\n",
    "- Estrarre un elemento dalla coda. Nel caso in cui\n",
    "  questa sia vuota ci si blocca in attesa che un\n",
    "  elemento venga inserito.\n",
    "\n",
    "Per velocizzare ulteriormente l'invio e la\n",
    "ricezione dati ho fatto uso della libreria\n",
    "`asyncio`, la quale, tramite la sintassi\n",
    "`async`/`await` permette di effettuare operazioni\n",
    "I/O bound in modo asincrono.\n"
   ]
  },
  {
   "cell_type": "markdown",
   "metadata": {},
   "source": [
    "### Prestazioni della coda\n",
    "\n",
    "Per valutare la bontà del modello ho preso in considerazione il tempo\n",
    "necessario a\n",
    "\n",
    "- inserire un singolo individuo in coda.\n",
    "- effettuare le operazioni di crossover, mutazione e valutazione per un singolo\n",
    "  individuo.\n",
    "- effettuare le due operazioni precedenti ma per un gruppo di individui.\n"
   ]
  },
  {
   "cell_type": "code",
   "execution_count": null,
   "metadata": {},
   "outputs": [],
   "source": [
    "import sys\n",
    "\n",
    "# chromosome length\n",
    "chromosome = [i for i in range(500)]\n",
    "print(f\"chromosome size: {sys.getsizeof(chromosome) / 1024.0:.2f} KB\")"
   ]
  },
  {
   "cell_type": "markdown",
   "metadata": {},
   "source": [
    "Passiamo ora a costruire 3 diverse popolazioni, rispettivamente da $10.000$,\n",
    "$20.000$ e $50.0000$ individui.\n"
   ]
  },
  {
   "cell_type": "code",
   "execution_count": null,
   "metadata": {},
   "outputs": [],
   "source": [
    "import pandas as pd\n",
    "\n",
    "population_sizes = [10000, 20000, 50000]\n",
    "populations = [[chromosome for _ in range(size)] for size in population_sizes]\n",
    "\n",
    "populations_df = {\n",
    "    \"individuals\": [size for size in population_sizes],\n",
    "    \"size (KB)\": [sys.getsizeof(pop) / 1024.0 for pop in populations],\n",
    "}\n",
    "\n",
    "populations_df = pd.DataFrame(populations_df)\n",
    "populations_df"
   ]
  },
  {
   "cell_type": "markdown",
   "metadata": {},
   "source": [
    "Per ognuna delle popolazioni andiamo a valutare il tempo medio di inserimento\n",
    "ed estrazione di un individuo nella coda.\n"
   ]
  },
  {
   "cell_type": "code",
   "execution_count": null,
   "metadata": {},
   "outputs": [],
   "source": [
    "import multiprocessing as mp\n",
    "import time\n",
    "\n",
    "import pandas as pd\n",
    "\n",
    "dfs = []\n",
    "\n",
    "buffer = mp.Queue()\n",
    "single_timings = {\"size\": [], \"put time (ms)\": [], \"get time (ms)\": []}\n",
    "for p, size in zip(populations, population_sizes):\n",
    "    for _ in range(size):\n",
    "        start = time.perf_counter()\n",
    "        buffer.put(chromosome)\n",
    "        put_end = time.perf_counter()\n",
    "        buffer.get()\n",
    "        get_end = time.perf_counter()\n",
    "\n",
    "        single_timings[\"size\"].append(size)\n",
    "        single_timings[\"put time (ms)\"].append((put_end - start) * 1000.0)\n",
    "        single_timings[\"get time (ms)\"].append((get_end - put_end) * 1000.0)\n",
    "\n",
    "single_timings = pd.DataFrame(single_timings)\n",
    "single_timings.groupby(\"size\").mean()"
   ]
  },
  {
   "cell_type": "markdown",
   "metadata": {},
   "source": [
    "Vediamo invece il tempo totale di inserimento ed estrazione di tutti gli\n",
    "individui uno per uno.\n"
   ]
  },
  {
   "cell_type": "code",
   "execution_count": null,
   "metadata": {},
   "outputs": [],
   "source": [
    "single_timings.groupby(\"size\").sum()"
   ]
  },
  {
   "cell_type": "markdown",
   "metadata": {},
   "source": [
    "Andiamo ora a valutare il tempo necessario ad inserire ed estrarre l'intera\n",
    "popolazione in un colpo solo.\n"
   ]
  },
  {
   "cell_type": "code",
   "execution_count": null,
   "metadata": {},
   "outputs": [],
   "source": [
    "assert buffer.empty()\n",
    "\n",
    "whole_pop_timings = {\"size\": [], \"put time (ms)\": [], \"get time (ms)\": []}\n",
    "for pop, size in zip(populations, population_sizes):\n",
    "    start = time.perf_counter()\n",
    "    buffer.put(pop)\n",
    "    put_end = time.perf_counter()\n",
    "    buffer.get()\n",
    "    get_end = time.perf_counter()\n",
    "\n",
    "    whole_pop_timings[\"size\"].append(size)\n",
    "    whole_pop_timings[\"put time (ms)\"].append((put_end - start) * 1000.0)\n",
    "    whole_pop_timings[\"get time (ms)\"].append((get_end - put_end) * 1000.0)\n",
    "\n",
    "whole_pop_timings = pd.DataFrame(whole_pop_timings)\n",
    "whole_pop_timings"
   ]
  },
  {
   "cell_type": "markdown",
   "metadata": {},
   "source": [
    "Andiamo a comparare i tempi medi di inserimento ed estrazione di un singolo\n",
    "individuo con i tempi necessari ad inserire ed estrarre l'intera popolazione.\n"
   ]
  },
  {
   "cell_type": "code",
   "execution_count": null,
   "metadata": {},
   "outputs": [],
   "source": [
    "whole_pop_timings.groupby(\"size\").sum() / single_timings.groupby(\"size\").mean()"
   ]
  },
  {
   "cell_type": "markdown",
   "metadata": {},
   "source": [
    "Prendiamo ad esempio la popolazione da $50.000$ individui, con un peso totale\n",
    "di circa $433$ KB. Si nota subito che occupa almeno 100 volte la memoria\n",
    "occupata da un singolo cromosoma. Ad ogni modo, il tempo di estrazione\n",
    "dell'intera popolazione non è 100 volte superiore ma circa 23 volte superiore.\n",
    "\n",
    "Compariamo ora il tempo necessario ad inserire ed estrarre l'intera popolazione\n",
    "un individuo alla volta, con il tempo necessario ad inserirla ed estrarla in un\n",
    "colpo solo.\n"
   ]
  },
  {
   "cell_type": "code",
   "execution_count": null,
   "metadata": {},
   "outputs": [],
   "source": [
    "single_timings.groupby(\"size\").sum() / whole_pop_timings.groupby(\"size\").sum()"
   ]
  },
  {
   "cell_type": "markdown",
   "metadata": {},
   "source": [
    "Risulta chiaro il vantaggio che si inserendo più dati alla volta ma meno volte\n",
    "rispetto ad inserire pochi byte per volta ma molte volte.\n",
    "\n",
    "Per quanto riguarda invece il singolo inserimento o estrazione dalla coda,\n",
    "lavorare con meno byte risulta più vantaggioso ma il miglioramento è di gran\n",
    "lunga più marcato nel caso in cui si lavori con l'intera popolazione in blocco.\n"
   ]
  },
  {
   "cell_type": "markdown",
   "metadata": {},
   "source": [
    "#### Suddivisione della popolazione in chunk\n",
    "\n",
    "Al fine di migliorare il modello che ho implementato, è interessante vedere\n",
    "la differenza in prestazioni quando si suddivide la popolazione in chunk.\n",
    "\n",
    "Per ognuna delle popolazioni ho valutato chunk di dimensioni pari alla\n",
    "popolazione stessa e poi via via più piccoli dividendo per 2.\n"
   ]
  },
  {
   "cell_type": "code",
   "execution_count": null,
   "metadata": {},
   "outputs": [],
   "source": [
    "import math\n",
    "\n",
    "chunk_df = {\"size\": [], \"chunksize\": [], \"put time (ms)\": [], \"get time (ms)\": []}\n",
    "\n",
    "for size, pop in zip(population_sizes, populations):\n",
    "    chunksize = size\n",
    "    for _ in range(6):\n",
    "        for i in range(0, len(pop), chunksize):\n",
    "            start = time.perf_counter()\n",
    "            buffer.put(pop[i : i + chunksize])\n",
    "            put_end = time.perf_counter()\n",
    "            buffer.get()\n",
    "            get_end = time.perf_counter()\n",
    "\n",
    "            chunk_df[\"size\"].append(size)\n",
    "            chunk_df[\"chunksize\"].append(chunksize)\n",
    "            chunk_df[\"put time (ms)\"].append((put_end - start) * 1000.0)\n",
    "            chunk_df[\"get time (ms)\"].append((get_end - put_end) * 1000.0)\n",
    "\n",
    "        chunksize = math.ceil(chunksize / 2)\n",
    "\n",
    "chunk_df = pd.DataFrame(chunk_df)\n",
    "chunk_df"
   ]
  },
  {
   "cell_type": "code",
   "execution_count": 9,
   "metadata": {},
   "outputs": [],
   "source": [
    "import matplotlib.pyplot as plt\n",
    "\n",
    "\n",
    "def plot_chunk(size: int):\n",
    "    df = chunk_df[chunk_df[\"size\"] == size].sort_values(by=\"chunksize\")\n",
    "    display(df)\n",
    "    chunksizes = df[\"chunksize\"].unique()\n",
    "\n",
    "    mean_put = df.groupby(\"chunksize\").mean()[\"put time (ms)\"]\n",
    "    mean_get = df.groupby(\"chunksize\").mean()[\"get time (ms)\"]\n",
    "\n",
    "    tot_put = df.groupby(\"chunksize\").sum()[\"put time (ms)\"]\n",
    "    tot_get = df.groupby(\"chunksize\").sum()[\"get time (ms)\"]\n",
    "\n",
    "    plt.figure(figsize=(12, 6))\n",
    "    plt.title(f\"Population size: {size}\")\n",
    "    plt.xlabel(\"Chunksize\")\n",
    "    plt.ylabel(\"Operation time\")\n",
    "    # plt.xscale(\"log\")\n",
    "\n",
    "    plt.plot(chunksizes, mean_put, label=f\"mean put time\", marker=\"s\")\n",
    "    plt.plot(chunksizes, mean_get, label=f\"mean get time\", marker=\"s\")\n",
    "\n",
    "    plt.plot(chunksizes, tot_put, label=f\"total put time\", marker=\"x\")\n",
    "    plt.plot(chunksizes, tot_get, label=f\"total get time\", marker=\"x\")\n",
    "\n",
    "    plt.legend()\n",
    "    plt.grid()\n",
    "    plt.show()"
   ]
  },
  {
   "cell_type": "code",
   "execution_count": null,
   "metadata": {},
   "outputs": [],
   "source": [
    "plot_chunk(10000)\n",
    "plot_chunk(20000)\n",
    "plot_chunk(50000)"
   ]
  },
  {
   "cell_type": "markdown",
   "metadata": {},
   "source": [
    "Come possiamo vedere dai grafici, i tempi di inserimento rimangono bassi. Sono\n",
    "i tempi estrazione che si comportano in modo interessante.\n",
    "\n",
    "Quando si hanno tanti chunk piccoli, il tempo medio di estrazione è basso ma\n",
    "il tempo totale per estrarre tutta la popolazione tende ad essere più grande.\n",
    "\n",
    "Quando invece si hanno pochi chunk grandi vediamo che il tempo totale di\n",
    "estrazione dell'intera popolazione tende a diminuire. Notiamo anche che\n",
    "mantenere un numero di chunk basso ma comunque diverso da 1 ha prestazioni\n",
    "molto simili a lavorare con l'intera popolazione in blocco.\n"
   ]
  },
  {
   "cell_type": "markdown",
   "metadata": {},
   "source": [
    "### Prestazioni calcolo parallelo\n",
    "\n",
    "Passiamo alle prestazioni offerte dal modello di calcolo parallelo. Al momento\n",
    "il problema che sto trattando lavora su una funzione di valutazione della\n",
    "fitness troppo leggera per apprezzare uno _speed-up_ significativo. Ho aggiunto\n",
    "quindi un ritardo artificiale tramite un `sleep` di un millisecondo.\n"
   ]
  },
  {
   "cell_type": "code",
   "execution_count": 11,
   "metadata": {},
   "outputs": [],
   "source": [
    "import tsp\n",
    "\n",
    "data = pd.read_csv(\"datasets/towns_500.csv\")\n",
    "x_coords = data[\"x\"]\n",
    "y_coords = data[\"y\"]\n",
    "towns = [tsp.Town(x, y) for x, y in zip(x_coords, y_coords)]"
   ]
  },
  {
   "cell_type": "markdown",
   "metadata": {},
   "source": [
    "Il modulo ha un API simile alla libreria `DEAP` ma non fa uso di un singolo\n",
    "metodo `register` per registrare le varie fasi dell'algoritmo.\n"
   ]
  },
  {
   "cell_type": "code",
   "execution_count": 12,
   "metadata": {},
   "outputs": [],
   "source": [
    "from ppga import base\n",
    "\n",
    "toolbox = base.ToolBox()\n",
    "toolbox.set_fitness_weights(weights=(-1.0,))\n",
    "toolbox.set_generation(tsp.generate, len(towns))\n",
    "toolbox.set_selection(tsp.tournament)\n",
    "toolbox.set_mating(tsp.couples_mating)\n",
    "toolbox.set_crossover(tsp.cx_one_point_ordered, 0.8)\n",
    "toolbox.set_mutation(tsp.mut_rotation, 0.2)\n",
    "toolbox.set_evaluation(tsp.evaluate, towns)\n",
    "toolbox.set_replacement(tsp.merge)"
   ]
  },
  {
   "cell_type": "markdown",
   "metadata": {},
   "source": [
    "Abbiamo poi una classe `GeneticSolver` che implementa l'algoritmo genetico\n",
    "vero e proprio e che prende in input la `ToolBox` precedentemente definita.\n"
   ]
  }
 ],
 "metadata": {
  "kernelspec": {
   "display_name": ".env",
   "language": "python",
   "name": "python3"
  },
  "language_info": {
   "codemirror_mode": {
    "name": "ipython",
    "version": 3
   },
   "file_extension": ".py",
   "mimetype": "text/x-python",
   "name": "python",
   "nbconvert_exporter": "python",
   "pygments_lexer": "ipython3",
   "version": "3.12.3"
  }
 },
 "nbformat": 4,
 "nbformat_minor": 4
}
