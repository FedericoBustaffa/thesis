{
 "cells": [
  {
   "cell_type": "markdown",
   "metadata": {},
   "source": [
    "# Analisi multiprocessing\n",
    "\n",
    "Di seguito alcune considerazioni sull'utilizzo\n",
    "del multiprocessing per la parallelizzazione di\n",
    "un algoritmo genetico.\n"
   ]
  },
  {
   "cell_type": "markdown",
   "metadata": {},
   "source": [
    "## Motivazioni\n",
    "\n",
    "L'utilizzo del modulo `multiprocessing` è ciò che\n",
    "viene considerato lo standard per il calcolo\n",
    "parallelo in Python, soprattutto se si parla di\n",
    "task CPU bound.\n",
    "\n",
    "Permette di aggirare il problema introdotto dal\n",
    "GIL, il quale non permette il classico paradigma\n",
    "multithread, possibile in altri linguaggi come C o\n",
    "C++.\n",
    "\n",
    "Tramite multiprocessing è dunque possibile non\n",
    "scendere a compromessi in quanto ad espressività\n",
    "del codice. Il programmatore è libero di scrivere\n",
    "il suo algoritmo genetico utilizzato tipi e\n",
    "strutture dati native di Python e, se necessario\n",
    "può ricorrere a librerie di terze parti senza\n",
    "problemi.\n"
   ]
  },
  {
   "cell_type": "markdown",
   "metadata": {},
   "source": [
    "### Problematiche\n",
    "\n",
    "Il multiprocessing di contro non è la cosa più\n",
    "leggera che ci sia. Di certo non è possibile\n",
    "pensare ad un approccio in cui i processi vengono\n",
    "creati e distrutti ad ogni iterazione, in quanto\n",
    "si genererebbe del dell'overhead sicuramente non\n",
    "trascurabile.\n",
    "\n",
    "La scelta di creare un pool di processi worker che\n",
    "rimane in vita dall'inizio alla fine\n",
    "dell'esecuzione è dunque una scelta quasi obbligata\n",
    "e che introduce la necessità di un qualche\n",
    "meccanismo di sincronizzazione per avviare e\n",
    "mettere in attesa i processi.\n",
    "\n",
    "L'altro potenziale limite è l'assenza di memoria\n",
    "condivisa. Non è dunque possibile avere strutture\n",
    "dati condivise tramite puntatori o definite\n",
    "globalmente a cui ogni processi può accedere. Anche\n",
    "qui la scelta di condividere parti della struttura\n",
    "dati tramite qualche meccanismo di streaming dati\n",
    "è praticamente obbligata.\n"
   ]
  },
  {
   "cell_type": "markdown",
   "metadata": {},
   "source": [
    "#### Memoria condivisa\n",
    "\n",
    "Esiste la possibilità di creare un blocco di\n",
    "memoria condivisa che risiede al di fuori di ogni\n",
    "worker e al quale è possibile accedere in modo\n",
    "diretto come si farebbe tramite multithreading.\n",
    "\n",
    "Ho trovato tuttavia questo meccanismo molto\n",
    "limitante per l'espressività che vorrebbe in\n",
    "qualche modo garantire la libreria. Il motivo è\n",
    "che per riuscire a accedere direttamente al blocco\n",
    "di memoria lo si deve fare tramite oggetti che\n",
    "supportano il **Buffer Protocol** di Python, come\n",
    "ad esempio _numpy array_ o _bytearray_.\n",
    "\n",
    "Questo limita molto i tipi e le strutture dati\n",
    "che si vogliono impiegare e ci spinge ad un\n",
    "approccio più classico in cui possiamo manipolare\n",
    "solo array numerici o simili.\n",
    "\n",
    "Non sarebbe quindi possibile avere cromosomi\n",
    "dalla struttura complessa ma soprattutto\n",
    "personalizzata.\n"
   ]
  },
  {
   "cell_type": "markdown",
   "metadata": {},
   "source": [
    "## Modello di calcolo parallelo\n",
    "\n",
    "Il modello di calcolo proposto si offre di operare\n",
    "in parallelo nelle fasi di crossover, mutazione e\n",
    "valutazione.\n",
    "\n",
    "Una volta selezionati gli individui per la\n",
    "riproduzione, si suddivide la lista che li contiene\n",
    "in $W$ chunk uguali, dove $W$ è il numero di\n",
    "processi worker. Ciascun chunk viene poi inviato\n",
    "ai worker.\n",
    "\n",
    "Per la condivisione ho optato per un meccanismo\n",
    "basato su code (`multiprocessing.Queue`) di\n",
    "comunicazione. Ogni processo possiede due code, una\n",
    "per la ricezione dati, l'altra per l'invio.\n",
    "\n",
    "![queue](images/queue.svg)\n",
    "\n",
    "Le code permettono di implementare in modo molto\n",
    "semplice il paradigma _produttore-consumatore_,\n",
    "fornendo due metodi principali (`put` e `get`)\n",
    "che permettono rispettivamente di\n",
    "\n",
    "- Inserire un elemento nella coda. Se questa è\n",
    "  piena il processo si blocca finché non vi è\n",
    "  uno slot libero.\n",
    "- Estrarre un elemento dalla coda. Nel caso in cui\n",
    "  questa sia vuota ci si blocca in attesa che un\n",
    "  elemento venga inserito.\n",
    "\n",
    "Per velocizzare ulteriormente l'invio e la\n",
    "ricezione dati ho fatto uso della libreria\n",
    "`asyncio`, la quale, tramite la sintassi\n",
    "`async`/`await` permette di effettuare operazioni\n",
    "I/O bound in modo asincrono.\n"
   ]
  },
  {
   "cell_type": "markdown",
   "metadata": {},
   "source": [
    "### Pipeline di ricezione\n",
    "\n",
    "Una prima implementazione consisteva semplicemente\n",
    "nell'inviare per intero il chunk di struttura dati\n",
    "al worker. Questo però potrebbe costituire un\n",
    "ostacolo alle performance nel momento in cui la\n",
    "fase di calcolo parallelo non è particolarmente\n",
    "pesante o quando la popolazione presa in esame\n",
    "risulta particolarmente grande.\n",
    "\n",
    "Per mitigare il problema è possibile suddividere\n",
    "ognuno dei chunk da inviare ai worker in ulteriori\n",
    "_sub-chunk_. In questo modo, il worker potrebbe\n",
    "ricevere i _sub-chunk_ asincronamente mentre\n",
    "elabora quelli già ricevuti.\n",
    "\n",
    "![pipeline](images/recv_pipeline.svg)\n",
    "\n",
    "Come mostrato in figura, l'estrazione dei chunk di\n",
    "struttura dati viene delegata ad un thread del\n",
    "worker. Una volta che il thread estrae un elemento\n",
    "dalla coda lo mette a sua volta in una coda in\n",
    "memoria condivisa con il processo worker vero e\n",
    "proprio. A questo punto il worker può estrarre il\n",
    "chunk ed iniziare ad elaborarlo mentre il thread\n",
    "continua ad estrarre il resto dei dati.\n"
   ]
  },
  {
   "cell_type": "markdown",
   "metadata": {},
   "source": [
    "### Prestazioni\n",
    "\n",
    "Per valutare la bontà del modello ho preso in considerazione il tempo\n",
    "necessario a\n",
    "\n",
    "- inserire un singolo individuo in coda.\n",
    "- effettuare le operazioni di crossover, mutazione e valutazione per un singolo\n",
    "  individuo.\n",
    "- effettuare le due operazioni precedenti ma per un gruppo di individui.\n",
    "\n",
    "I test svolti prendono in considerazione popolazioni di $10.000$, $20.000$ e\n",
    "$50.0000$ individui, tutti identificati da cromosomi composti da $500$ interi.\n",
    "\n",
    "| cromosoma | individuo (byte) | popolazione (MB) |\n",
    "| :-------: | :--------------: | :--------------: |\n",
    "|    100    |       1048       |      10.08       |\n",
    "|    200    |       1784       |      17.09       |\n",
    "|    500    |       4344       |      41.51       |\n"
   ]
  },
  {
   "cell_type": "code",
   "execution_count": null,
   "metadata": {},
   "outputs": [],
   "source": []
  },
  {
   "cell_type": "markdown",
   "metadata": {},
   "source": [
    "### Operazioni sulla coda\n",
    "\n",
    "Il primo test è stato effettuato sui tempi medi\n",
    "di inserimento ed estrazione di un singolo\n",
    "individuo nella coda. Ho scelto di considerare il\n",
    "tempo medio e non il peggiore dato che le una\n",
    "stessa operazione in Python potrebbe impiegare\n",
    "tempi anche molto differenti. Il tempo più\n",
    "frequente rimane comunque quello medio.\n"
   ]
  }
 ],
 "metadata": {
  "kernelspec": {
   "display_name": ".env",
   "language": "python",
   "name": "python3"
  },
  "language_info": {
   "codemirror_mode": {
    "name": "ipython",
    "version": 3
   },
   "file_extension": ".py",
   "mimetype": "text/x-python",
   "name": "python",
   "nbconvert_exporter": "python",
   "pygments_lexer": "ipython3",
   "version": "3.12.7"
  }
 },
 "nbformat": 4,
 "nbformat_minor": 4
}
